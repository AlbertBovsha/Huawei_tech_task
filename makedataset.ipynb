{
 "cells": [
  {
   "cell_type": "code",
   "execution_count": 1,
   "metadata": {},
   "outputs": [],
   "source": [
    "import sys\n",
    "import os\n",
    "base_path = os.getcwd()\n",
    "sys.path.append(os.path.join(base_path,'compressai'))"
   ]
  },
  {
   "cell_type": "code",
   "execution_count": 2,
   "metadata": {},
   "outputs": [
    {
     "name": "stderr",
     "output_type": "stream",
     "text": [
      "C:\\Users\\alber\\AppData\\Local\\Packages\\PythonSoftwareFoundation.Python.3.10_qbz5n2kfra8p0\\LocalCache\\local-packages\\Python310\\site-packages\\tqdm\\auto.py:21: TqdmWarning: IProgress not found. Please update jupyter and ipywidgets. See https://ipywidgets.readthedocs.io/en/stable/user_install.html\n",
      "  from .autonotebook import tqdm as notebook_tqdm\n"
     ]
    },
    {
     "name": "stdout",
     "output_type": "stream",
     "text": [
      "torch.Size([1, 128, 128])\n"
     ]
    }
   ],
   "source": [
    "from compressai.zoo import mbt2018_mean\n",
    "import torch\n",
    "import torchvision\n",
    "from torchvision import transforms\n",
    "import torchvision.transforms as T\n",
    "from torch.utils.data import TensorDataset, DataLoader\n",
    "from torch.utils.data import random_split\n",
    "y_hat =None\n",
    "\n",
    "#задаём хук для того, чтобы достать параметры у_hat\n",
    "def hook(module, input, output):\n",
    "   global y_hat\n",
    "   y_hat = output[0].clone()\n",
    "\n",
    "\n",
    "#инициализация модели mbt2018_mean\n",
    "model=mbt2018_mean(pretrained=True,quality=1) \n",
    "model.eval()\n",
    "#установка хука для извлечения y_hat\n",
    "handle = model.gaussian_conditional.register_forward_hook(hook)\n",
    "\n",
    "#скачиваем датасет\n",
    "transform = transforms.Compose([T.Resize((128,128)),\n",
    "                                 T.ToTensor()])\n",
    "full_dataset = torchvision.datasets.MNIST(root='./data', train=True,\n",
    "                                        download=True, transform=transform)\n",
    "#выбираем его случайное подмножество\n",
    "subset_indices = torch.randperm(len(full_dataset))[:2000]  \n",
    "subset_dataset = torch.utils.data.Subset(full_dataset, subset_indices)\n",
    "\n",
    "stl10_loader = DataLoader(subset_dataset, batch_size=1,\n",
    "                                          shuffle=True, num_workers=1)\n",
    "\n",
    "image,label=subset_dataset[0]\n",
    "print(image.shape)\n",
    "\n",
    "# im=T.ToPILImage()(image)\n",
    "# im.show()\n",
    "# x=torch.rand((1,3,128,128))\n",
    "# o=model(x)\n",
    "# print(y_hat.shape)\n"
   ]
  },
  {
   "cell_type": "code",
   "execution_count": 3,
   "metadata": {},
   "outputs": [],
   "source": [
    "#создаём новый датасет из y_hat\n",
    "y_hats = []\n",
    "labels = []\n",
    "\n",
    "for inputs, label in stl10_loader:\n",
    "    with torch.no_grad(): \n",
    "        outputs = model(inputs.repeat(1,3,1,1))  \n",
    "        y = y_hat  \n",
    "        y_hats.append(y.cpu())\n",
    "        labels.append(label.cpu())\n",
    "    \n",
    "y_hats = torch.cat(y_hats, dim=0)\n",
    "labels = torch.cat(labels, dim=0)\n",
    "torch.save(y_hats, 'y_hat_dataset/MNIST/train/y_hats.pt')\n",
    "torch.save(labels, 'y_hat_dataset/MNIST/train/labels.pt')\n",
    "\n"
   ]
  }
 ],
 "metadata": {
  "kernelspec": {
   "display_name": "Python 3",
   "language": "python",
   "name": "python3"
  },
  "language_info": {
   "codemirror_mode": {
    "name": "ipython",
    "version": 3
   },
   "file_extension": ".py",
   "mimetype": "text/x-python",
   "name": "python",
   "nbconvert_exporter": "python",
   "pygments_lexer": "ipython3",
   "version": "3.10.11"
  }
 },
 "nbformat": 4,
 "nbformat_minor": 2
}
